{
 "cells": [
  {
   "cell_type": "markdown",
   "id": "ed2ce529-18a3-4966-bd1c-c9bc0db48f36",
   "metadata": {},
   "source": [
    "Excercise 1"
   ]
  },
  {
   "attachments": {},
   "cell_type": "markdown",
   "id": "4684482d-5cec-4799-8cc1-49292d6e9d42",
   "metadata": {},
   "source": [
    "a) In the interactive session, we saw reaction fluxes in a linear pathway being equal to each other due\n",
    "to mass balance constraints. Do you observe the same thing now for the maximal reaction activities?\n",
    "Explain your observations. [5 pt]:\n",
    "\n",
    "\n",
    "2025/26 – KEN3170 – Multi-scale Modelling of Biological Systems 2\n",
    "a) Some reactions have no maximal reaction activity data. Identify at least two different kinds of such\n",
    "reactions, and explain why gene expression-derived data would not be applicable for these kinds of\n",
    "reactions. [5 pt]:\n",
    "\n"
   ]
  },
  {
   "cell_type": "markdown",
   "id": "cb400186-17a8-4750-9966-b06af60804d1",
   "metadata": {},
   "source": [
    "Excercise 2"
   ]
  },
  {
   "cell_type": "code",
   "execution_count": 5,
   "id": "75613afd-450d-456b-af87-5a530b63b56d",
   "metadata": {},
   "outputs": [],
   "source": [
    "# imports\n",
    "import cobra\n",
    "import csv"
   ]
  },
  {
   "cell_type": "code",
   "execution_count": 3,
   "id": "b70a59ad-a3e6-419d-b399-025cab23c1a3",
   "metadata": {},
   "outputs": [],
   "source": [
    "# load model\n",
    "model = cobra.io.load_json_model('e_coli_core.json')"
   ]
  },
  {
   "cell_type": "code",
   "execution_count": null,
   "id": "888d7a3e-8692-4d74-b060-cb866d754377",
   "metadata": {},
   "outputs": [],
   "source": [
    "# load and preprocess max reaction values\n",
    "reactiondict = {}\n",
    "with open('e_coli_core_expression.csv', mode='r') as file:\n",
    "    next(file)  # Skip the header row\n",
    "    csv_reader = csv.reader(file)\n",
    "    for row in csv_reader:\n",
    "        reactiondict[row[0]] = row[1]"
   ]
  },
  {
   "cell_type": "code",
   "execution_count": 25,
   "id": "86510b02-38f2-4012-b814-76294b3db5cb",
   "metadata": {},
   "outputs": [
    {
     "name": "stdout",
     "output_type": "stream",
     "text": [
      "dict_keys(['PFK', 'PFL', 'PGI', 'PGK', 'PGL', 'ACALD', 'AKGt2r', 'PGM', 'PIt2r', 'ALCD2x', 'ACALDt', 'ACKr', 'PPC', 'ACONTa', 'ACONTb', 'PPCK', 'ACt2r', 'PDH', 'PPS', 'ADK1', 'AKGDH', 'ATPS4r', 'PTAr', 'PYK', 'PYRt2', 'CO2t', 'RPE', 'CS', 'RPI', 'SUCCt2_2', 'CYTBD', 'D_LACt2', 'ENO', 'SUCCt3', 'ETOHt2r', 'SUCDi', 'SUCOAS', 'TALA', 'THD2', 'TKT1', 'TKT2', 'TPI', 'FBA', 'FBP', 'FORt2', 'FORt', 'FRD7', 'FRUpts2', 'FUM', 'FUMt2_2', 'G6PDH2r', 'GAPD', 'GLCpts', 'GLNS', 'GLNabc', 'GLUDy', 'GLUN', 'GLUSy', 'GLUt2r', 'GND', 'H2Ot', 'ICDHyr', 'ICL', 'LDH_D', 'MALS', 'MALt2_2', 'MDH', 'ME1', 'ME2', 'NADH16', 'NADTRHD', 'NH4t', 'O2t'])\n"
     ]
    }
   ],
   "source": [
    "print(reactiondict.keys())"
   ]
  },
  {
   "cell_type": "code",
   "execution_count": 28,
   "id": "da3d7002-a542-4375-ac72-ee4b228ca3d2",
   "metadata": {},
   "outputs": [
    {
     "name": "stdout",
     "output_type": "stream",
     "text": [
      "PFK\n",
      "PFL\n",
      "PGI\n",
      "PGK\n",
      "PGL\n",
      "ACALD\n",
      "AKGt2r\n",
      "PGM\n",
      "PIt2r\n",
      "ALCD2x\n",
      "ACALDt\n",
      "ACKr\n",
      "PPC\n",
      "ACONTa\n",
      "ACONTb\n",
      "PPCK\n",
      "ACt2r\n",
      "PPS\n",
      "ADK1\n",
      "AKGDH\n",
      "ATPS4r\n",
      "PTAr\n",
      "PYK\n",
      "PYRt2\n",
      "CO2t\n",
      "RPE\n",
      "CS\n",
      "RPI\n",
      "SUCCt2_2\n",
      "CYTBD\n",
      "D_LACt2\n",
      "ENO\n",
      "SUCCt3\n",
      "ETOHt2r\n",
      "SUCDi\n",
      "SUCOAS\n",
      "TALA\n",
      "THD2\n",
      "TKT1\n",
      "TKT2\n",
      "TPI\n",
      "FBA\n",
      "FBP\n",
      "FORt2\n",
      "FORt\n",
      "FRD7\n",
      "FRUpts2\n",
      "FUM\n",
      "FUMt2_2\n",
      "G6PDH2r\n",
      "GAPD\n",
      "GLCpts\n",
      "GLNS\n",
      "GLNabc\n",
      "GLUDy\n",
      "GLUN\n",
      "GLUSy\n",
      "GLUt2r\n",
      "GND\n",
      "H2Ot\n",
      "ICDHyr\n",
      "ICL\n",
      "LDH_D\n",
      "MALS\n",
      "MALt2_2\n",
      "MDH\n",
      "ME1\n",
      "ME2\n",
      "NADH16\n",
      "NADTRHD\n",
      "NH4t\n",
      "O2t\n",
      "PDH\n"
     ]
    }
   ],
   "source": [
    "# update reaction bounds\n",
    "for reaction in model.reactions:\n",
    "    if reaction.id in reactiondict.keys():\n",
    "        if reaction.lower_bound == 0:\n",
    "            reaction.upper_bound = float(reactiondict.get(reaction.id))\n",
    "        else:\n",
    "            reaction.upper_bound = float(reactiondict.get(reaction.id))\n",
    "            reaction.lower_bound = - float(reactiondict.get(reaction.id))\n",
    "    if reaction.id == \"EX_glc__D_e\":\n",
    "        reaction.lower_bound = -1000\n",
    "    if reaction.id == \"ATPM\":\n",
    "        #do nothing\n",
    "        continue\n",
    "\n",
    "    "
   ]
  },
  {
   "cell_type": "code",
   "execution_count": null,
   "id": "08c709fa-70ff-4d1e-86eb-2255a514e7b9",
   "metadata": {},
   "outputs": [],
   "source": []
  }
 ],
 "metadata": {
  "kernelspec": {
   "display_name": "Python 3 (ipykernel)",
   "language": "python",
   "name": "python3"
  },
  "language_info": {
   "codemirror_mode": {
    "name": "ipython",
    "version": 3
   },
   "file_extension": ".py",
   "mimetype": "text/x-python",
   "name": "python",
   "nbconvert_exporter": "python",
   "pygments_lexer": "ipython3",
   "version": "3.12.2"
  }
 },
 "nbformat": 4,
 "nbformat_minor": 5
}
